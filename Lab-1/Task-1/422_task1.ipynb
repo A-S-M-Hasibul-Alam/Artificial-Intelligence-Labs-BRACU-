{
  "nbformat": 4,
  "nbformat_minor": 0,
  "metadata": {
    "colab": {
      "name": "422_task1.ipynb",
      "provenance": [],
      "collapsed_sections": []
    },
    "kernelspec": {
      "name": "python3",
      "display_name": "Python 3"
    },
    "language_info": {
      "name": "python"
    }
  },
  "cells": [
    {
      "cell_type": "code",
      "metadata": {
        "id": "0RvDyMv8aR-Q",
        "colab": {
          "base_uri": "https://localhost:8080/",
          "height": 183
        },
        "outputId": "10505c2c-d557-4aba-a2df-7d56eb867ca1"
      },
      "source": [
        "with open ('input 1.txt') as f:\n",
        "  lines = f.readlines()\n"
      ],
      "execution_count": 1,
      "outputs": [
        {
          "output_type": "error",
          "ename": "FileNotFoundError",
          "evalue": "ignored",
          "traceback": [
            "\u001b[0;31m---------------------------------------------------------------------------\u001b[0m",
            "\u001b[0;31mFileNotFoundError\u001b[0m                         Traceback (most recent call last)",
            "\u001b[0;32m<ipython-input-1-0092ea172dda>\u001b[0m in \u001b[0;36m<module>\u001b[0;34m()\u001b[0m\n\u001b[0;32m----> 1\u001b[0;31m \u001b[0;32mwith\u001b[0m \u001b[0mopen\u001b[0m \u001b[0;34m(\u001b[0m\u001b[0;34m'input 1.txt'\u001b[0m\u001b[0;34m)\u001b[0m \u001b[0;32mas\u001b[0m \u001b[0mf\u001b[0m\u001b[0;34m:\u001b[0m\u001b[0;34m\u001b[0m\u001b[0;34m\u001b[0m\u001b[0m\n\u001b[0m\u001b[1;32m      2\u001b[0m   \u001b[0mlines\u001b[0m \u001b[0;34m=\u001b[0m \u001b[0mf\u001b[0m\u001b[0;34m.\u001b[0m\u001b[0mreadlines\u001b[0m\u001b[0;34m(\u001b[0m\u001b[0;34m)\u001b[0m\u001b[0;34m\u001b[0m\u001b[0;34m\u001b[0m\u001b[0m\n",
            "\u001b[0;31mFileNotFoundError\u001b[0m: [Errno 2] No such file or directory: 'input 1.txt'"
          ]
        }
      ]
    },
    {
      "cell_type": "code",
      "metadata": {
        "id": "1DDsORawcS7a"
      },
      "source": [
        "g_matrix = []\n",
        "for line in lines:\n",
        "    #print(line)\n",
        "    g_matrix.append(line.split())"
      ],
      "execution_count": null,
      "outputs": []
    },
    {
      "cell_type": "code",
      "metadata": {
        "id": "hCWBAUhhcihF"
      },
      "source": [
        "print(g_matrix)"
      ],
      "execution_count": null,
      "outputs": []
    },
    {
      "cell_type": "code",
      "metadata": {
        "id": "5FGuD571dKjv"
      },
      "source": [
        "rows = len(g_matrix)\n",
        "print(rows)\n",
        "coloumns = len(g_matrix[0])\n",
        "print(coloumns)"
      ],
      "execution_count": null,
      "outputs": []
    },
    {
      "cell_type": "code",
      "metadata": {
        "id": "j_Qm4RWc302o"
      },
      "source": [
        "visited = [[0]*len(g_matrix[0]) for _ in range(len(g_matrix))]"
      ],
      "execution_count": null,
      "outputs": []
    },
    {
      "cell_type": "code",
      "metadata": {
        "id": "Qojtt33YbaCN"
      },
      "source": [
        "def checker(i,j,count,g_matrix,visited):\n",
        "\n",
        "  if(i>-1 and i<rows and j>-1 and j<coloumns):\n",
        "    \n",
        "    #immediate up checker\n",
        "    if((i-1)> -1):\n",
        "      if(visited[i-1][j]==0 and g_matrix[i-1][j]==\"Y\"):\n",
        "        visited[i-1][j] = 1\n",
        "        count = checker(i-1,j,count,g_matrix,visited)\n",
        "        count = count+1\n",
        "    \n",
        "    #immediate bottom checker\n",
        "    if((i+1)<rows):\n",
        "      if(visited[i+1][j]==0 and g_matrix[i+1][j]==\"Y\"):\n",
        "        visited[i+1][j] = 1\n",
        "        count = checker(i+1,j,count,g_matrix,visited)\n",
        "        count = count+1\n",
        "\n",
        "    #immediate left checker    \n",
        "    if((j-1)> -1):\n",
        "      if(visited[i][j-1]==0 and g_matrix[i][j-1]==\"Y\"):\n",
        "        visited[i][j-1] = 1\n",
        "        count = checker(i,j-1,count,g_matrix,visited)\n",
        "        count = count+1\n",
        "\n",
        "    #immediate right checker    \n",
        "    if((j+1) < coloumns):\n",
        "      if(visited[i][j+1]==0 and g_matrix[i][j+1]==\"Y\"):\n",
        "        visited[i][j+1] = 1\n",
        "        count = checker(i,j+1,count,g_matrix,visited)\n",
        "        count = count+1\n",
        "\n",
        "    #top left checker    \n",
        "    if ((i-1)>-1 and (j-1)>-1):\n",
        "      if(visited[i-1][j-1]==0 and g_matrix[i-1][j-1]==\"Y\"):\n",
        "        visited[i-1][j-1] = 1\n",
        "        count = checker(i-1,j-1,count,g_matrix,visited)\n",
        "        count = count+1\n",
        "\n",
        "    #top right checker    \n",
        "    if ((i-1)>-1 and (j+1)<coloumns):\n",
        "      if(visited[i-1][j+1]==0 and g_matrix[i-1][j+1]==\"Y\"):\n",
        "        visited[i-1][j+1] = 1\n",
        "        count = checker(i-1,j+1,count,g_matrix,visited)\n",
        "        count = count+1\n",
        "\n",
        "    #bottom left checker    \n",
        "    if ((i+1)<rows and (j-1)>-1):\n",
        "      if(visited[i+1][j-1]==0 and g_matrix[i+1][j-1]==\"Y\"):\n",
        "        visited[i+1][j-1] = 1\n",
        "        count = checker(i+1,j-1,count,g_matrix,visited)\n",
        "        count = count+1\n",
        "\n",
        "    #bottom right checker    \n",
        "    if ((i+1)<rows and (j+1)<coloumns):\n",
        "      if(visited[i+1][j+1]==0 and g_matrix[i+1][j+1]==\"Y\"):\n",
        "        visited[i+1][j+1] = 1\n",
        "        count = checker(i+1,j+1,count,g_matrix,visited)\n",
        "        count = count+1\n",
        "  return count"
      ],
      "execution_count": null,
      "outputs": []
    },
    {
      "cell_type": "code",
      "metadata": {
        "id": "7yc8KZTj5Kkf"
      },
      "source": [
        "count_list = []\n",
        "count = 0\n",
        "for i in range(rows):\n",
        "  for j in range(coloumns):\n",
        "    if(visited[i][j] == 0 and g_matrix[i][j]==\"Y\"):\n",
        "      visited[i][j] = 1\n",
        "      count = checker(i,j,count,g_matrix,visited)\n",
        "      count = count+1\n",
        "      count_list.append(count)\n",
        "  count = 0\n",
        "print(max(count_list))\n"
      ],
      "execution_count": null,
      "outputs": []
    }
  ]
}